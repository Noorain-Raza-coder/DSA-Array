{
 "cells": [
  {
   "cell_type": "markdown",
   "id": "e86d7134",
   "metadata": {},
   "source": [
    "## Arrays :"
   ]
  },
  {
   "cell_type": "markdown",
   "id": "3b22be38",
   "metadata": {},
   "source": [
    "### 1. Given an array, check if it contains any duplicates or not. \n",
    "### arr = [1, 2, 4, 2, 5, 9]  ; Output = True"
   ]
  },
  {
   "cell_type": "markdown",
   "id": "05fb95ae",
   "metadata": {},
   "source": [
    "### Ans 1)\n",
    "\n",
    "### Steps:\n",
    "- Traverse through each element of the array.\n",
    "- Check whether the element exists more than one time or not by using list's `count()` method.\n",
    "- If the element exits more than one then return True else False.\n",
    "1. Time Complexity   : O(n)\n",
    "2. Space Complexity : O(1)"
   ]
  },
  {
   "cell_type": "code",
   "execution_count": 1,
   "id": "1edfb1b9",
   "metadata": {},
   "outputs": [],
   "source": [
    "def checkDuplicates(arr):\n",
    "    \n",
    "    ## 1) iterate through all the elements of arr\n",
    "    \n",
    "    for ele in arr:\n",
    "        ## 2) check weather an element exits more than one time or not. If yes return true else false.\n",
    "        if arr.count(ele) > 1 :\n",
    "            return True    \n",
    "    return False"
   ]
  },
  {
   "cell_type": "code",
   "execution_count": 3,
   "id": "e170c8d8",
   "metadata": {},
   "outputs": [
    {
     "name": "stdout",
     "output_type": "stream",
     "text": [
      "Given input : [1, 2, 4, 2, 5, 9]\n",
      "Output : True\n"
     ]
    }
   ],
   "source": [
    "## call the function and pass the arr\n",
    "inp = [1, 2, 4, 2, 5, 9]\n",
    "output = checkDuplicates(inp)\n",
    "\n",
    "## dispaly input and output\n",
    "print(f\"Given input : {inp}\\nOutput : {output}\")"
   ]
  },
  {
   "cell_type": "markdown",
   "id": "c0ca4774",
   "metadata": {},
   "source": [
    "### 2. Given an array and an integer k, rotate the array to the right by k steps. \n",
    "### arr = [1, 2, 3, 4, 5, 6, 7] , k = 3  ;  Output = [5, 6, 7, 1, 2, 3, 4]"
   ]
  },
  {
   "cell_type": "markdown",
   "id": "3184f0e0",
   "metadata": {},
   "source": [
    "### Ans 2)\n",
    "\n",
    "### Approach:\n",
    "1. First write the code to rotate the array to the right by 1 step.\n",
    "2. Then pack/repeat the code inside the loop to run it k times.\n",
    "\n",
    "### Steps :\n",
    "- First write the code to rotate the array to the right by 1 step by following steps : \n",
    "- 1) Store the last element of the array in a temp variable.\n",
    "- 2) Shift all the element to right from the second last index of the array.\n",
    "- 3) Now store the temp element/last element of the array to the first index.\n",
    "- Now pack the code inside the loop and run it k times.\n",
    "- Return the k times rotated array.\n",
    "\n",
    "1. Time complexity : O(n*k)\n",
    "2. Space complexity : O(1)"
   ]
  },
  {
   "cell_type": "code",
   "execution_count": 11,
   "id": "32d1356e",
   "metadata": {},
   "outputs": [],
   "source": [
    "def rotateArrRight(arr, k):\n",
    "    ## length of the array\n",
    "    n = len(arr)\n",
    "    \n",
    "    ## repeat the concept of rotating the array to the right by 1 step, k times.\n",
    "    for i in range(k):\n",
    "    \n",
    "        ## code to rotate the array right by 1 step.\n",
    "        \n",
    "        ## store the last element of the array in a temp variable\n",
    "        temp = arr[-1]\n",
    "\n",
    "        ## shift all the element to right from the second last index of the array.\n",
    "        for i in range(n-1, 0, -1):\n",
    "            arr[i] = arr[i-1]\n",
    "\n",
    "        ## now store the temp element/last element of the array to the first index\n",
    "        arr[0] = temp\n",
    "    \n",
    "    ## return the k times rotated array\n",
    "    return arr"
   ]
  },
  {
   "cell_type": "code",
   "execution_count": 12,
   "id": "cbdffab0",
   "metadata": {},
   "outputs": [
    {
     "name": "stdout",
     "output_type": "stream",
     "text": [
      "Given input : [1, 2, 4, 2, 5, 9]\n",
      "Output : [5, 6, 7, 1, 2, 3, 4]\n"
     ]
    }
   ],
   "source": [
    "## call the function and pass the arr\n",
    "inp2 = [1, 2, 4, 2, 5, 9]\n",
    "output2 = rotateArrRight(inp2,3)\n",
    "\n",
    "## dispaly input and output\n",
    "print(f\"Given input : {inp2}\\nOutput : {output2}\")\n"
   ]
  },
  {
   "cell_type": "markdown",
   "id": "8f3083e4",
   "metadata": {},
   "source": [
    "### 3. Reverse the given array in-place, means without using any extra data structure. \n",
    "### arr = [2, 4, 5, 7, 9, 12]  ; Output = [12, 9, 7, 5, 4, 2]"
   ]
  },
  {
   "cell_type": "markdown",
   "id": "e63201ef",
   "metadata": {},
   "source": [
    "### Ans 3)\n",
    "\n",
    "### Steps:\n",
    "- To reverse the elements of given array without using extra space, we can use `two pointers approach and swaping approach`.\n",
    "- initialize two pointers left and right with zero and last index value respectively.\n",
    "- Now start swaping elements from corner i.e left most and right most.\n",
    "- After swaping update the value of pointers by `increasing` left pointer by 1 and `decreasing` right pointer by 1.\n",
    "- Repeat these steps using while loop until left and right become equal.\n",
    "- Finaly return the reversed array.\n",
    "\n",
    "1. Time complexity : O(n)\n",
    "2. Space complexity : O(1)"
   ]
  },
  {
   "cell_type": "code",
   "execution_count": 15,
   "id": "0cd67634",
   "metadata": {},
   "outputs": [],
   "source": [
    "def reverseArray(arr):\n",
    "    ## initialize two pointers left and right\n",
    "    left , right = 0 , len(arr)-1\n",
    "    \n",
    "    ## run the loop untill left pointer equals to right pointer.\n",
    "    while left < right:\n",
    "        ## swap the elements\n",
    "        arr[left] , arr[right] = arr[right] , arr[left]\n",
    "        \n",
    "        ## update pointers\n",
    "        left+=1\n",
    "        right-=1\n",
    "        \n",
    "    ## return the reversed array\n",
    "    return arr"
   ]
  },
  {
   "cell_type": "code",
   "execution_count": 18,
   "id": "09e217a0",
   "metadata": {},
   "outputs": [
    {
     "name": "stdout",
     "output_type": "stream",
     "text": [
      "Given input : [2, 4, 5, 7, 9, 12]\n",
      "Output : [12, 9, 7, 5, 4, 2]\n"
     ]
    }
   ],
   "source": [
    "## call the function and pass the arr\n",
    "inp3 = [2, 4, 5, 7, 9, 12]\n",
    "print(f\"Given input : {inp3}\")\n",
    "output3 = reverseArray(inp3)\n",
    "\n",
    "## dispaly input and output\n",
    "print(f\"Output : {output3}\")\n"
   ]
  },
  {
   "cell_type": "markdown",
   "id": "ca87e75e",
   "metadata": {},
   "source": [
    "### 4. Given an array of integers, find the maximum element in an array\n",
    "### arr = [10, 5, 20, 8, 15] ; Output = 20"
   ]
  },
  {
   "cell_type": "markdown",
   "id": "1ed8b180",
   "metadata": {},
   "source": [
    "### Ans 4)\n",
    "\n",
    "### Steps:\n",
    "- Initialize a variable to store max value of array.\n",
    "- Traverse through the array and compare each element with initialized value and update it accordingly.\n",
    "- Return the max element of the array.\n",
    "1. Time complexity : O(n)\n",
    "2. Space complexity : O(1)"
   ]
  },
  {
   "cell_type": "code",
   "execution_count": 19,
   "id": "6c01a02e",
   "metadata": {},
   "outputs": [],
   "source": [
    "def maxElement(arr):\n",
    "    ## initialize a variable to store max value of array\n",
    "    maxEle = arr[0]\n",
    "    \n",
    "    ## traverse through the array and compare each element with initialized value and update it accordingly\n",
    "    for ele in arr:\n",
    "        if maxEle < ele:\n",
    "            maxEle = ele\n",
    "    \n",
    "    ## return the max element of the array\n",
    "    return maxEle"
   ]
  },
  {
   "cell_type": "code",
   "execution_count": 21,
   "id": "2afe0316",
   "metadata": {},
   "outputs": [
    {
     "name": "stdout",
     "output_type": "stream",
     "text": [
      "Given input : [10, 5, 20, 8, 15]\n",
      "Output : 20\n"
     ]
    }
   ],
   "source": [
    "## call the function and pass the arr\n",
    "inp4 = [10, 5, 20, 8, 15] \n",
    "print(f\"Given input : {inp4}\")\n",
    "output4 = maxElement(inp4)\n",
    "\n",
    "## dispaly input and output\n",
    "print(f\"Output : {output4}\")\n"
   ]
  },
  {
   "cell_type": "markdown",
   "id": "e9c83740",
   "metadata": {},
   "source": [
    "### 5. Given a sorted array, remove the duplicate element without using any extra data structure. \n",
    "### arr = [1, 1, 2, 2, 2, 3, 3, 4, 4, 4, 5, 5]  ; Output = [1, 2, 3, 4, 5]"
   ]
  },
  {
   "cell_type": "markdown",
   "id": "7e8c288e",
   "metadata": {},
   "source": [
    "### Ans 5)\n",
    "\n",
    "### Steps:\n",
    "- Traverse through each element of the array.\n",
    "- Count the frequency of each element in the array, if elements exists more than one time remove its duplicates.\n",
    "- Run a loop to remove all its duplicates.\n",
    "- Return the unique elemente array.\n",
    "1. Time complexity : O(n^2)\n",
    "2. Space complexity : O(1)"
   ]
  },
  {
   "cell_type": "code",
   "execution_count": 29,
   "id": "091fad01",
   "metadata": {},
   "outputs": [],
   "source": [
    "def removeDuplicates(arr):\n",
    "    ## traverse through each element of the array\n",
    "    for ele in arr:\n",
    "        ## count the frequency of each element in the array, if elements exists more than one time remove its duplicates.\n",
    "        if arr.count(ele) > 1:\n",
    "            ## run a loop to remove all its duplicates\n",
    "            for i in range(arr.count(ele)-1):\n",
    "                arr.remove(ele)\n",
    "        \n",
    "    ## return the unique elemente array\n",
    "    return arr"
   ]
  },
  {
   "cell_type": "code",
   "execution_count": 30,
   "id": "27ff9c04",
   "metadata": {
    "scrolled": false
   },
   "outputs": [
    {
     "name": "stdout",
     "output_type": "stream",
     "text": [
      "Given input : [1, 1, 2, 2, 2, 3, 3, 4, 4, 4, 5, 5]\n",
      "Output : [1, 2, 3, 4, 5]\n"
     ]
    }
   ],
   "source": [
    "## call the function and pass the arr\n",
    "inp5 = [1, 1, 2, 2, 2, 3, 3, 4, 4, 4, 5, 5]\n",
    "print(f\"Given input : {inp5}\")\n",
    "output5 = removeDuplicates(inp5)\n",
    "\n",
    "## dispaly input and output\n",
    "print(f\"Output : {output5}\")\n"
   ]
  }
 ],
 "metadata": {
  "kernelspec": {
   "display_name": "Python 3 (ipykernel)",
   "language": "python",
   "name": "python3"
  },
  "language_info": {
   "codemirror_mode": {
    "name": "ipython",
    "version": 3
   },
   "file_extension": ".py",
   "mimetype": "text/x-python",
   "name": "python",
   "nbconvert_exporter": "python",
   "pygments_lexer": "ipython3",
   "version": "3.9.12"
  }
 },
 "nbformat": 4,
 "nbformat_minor": 5
}
