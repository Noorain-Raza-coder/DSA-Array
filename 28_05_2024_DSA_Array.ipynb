{
 "cells": [
  {
   "cell_type": "markdown",
   "id": "286fc33a",
   "metadata": {},
   "source": [
    "## Arrays :"
   ]
  },
  {
   "cell_type": "markdown",
   "id": "e0d6e674",
   "metadata": {},
   "source": [
    "### 1. Given an array, check if it contains any duplicates or not. \n",
    "### arr = [1, 2, 4, 2, 5, 9]  ; Output = True"
   ]
  },
  {
   "cell_type": "markdown",
   "id": "4cab7962",
   "metadata": {},
   "source": [
    "### 2. Given an array and an integer k, rotate the array to the right by k steps. \n",
    "### arr = [1, 2, 3, 4, 5, 6, 7] , k = 3  ;  Output = [5, 6, 7, 1, 2, 3, 4]"
   ]
  },
  {
   "cell_type": "markdown",
   "id": "05feef6e",
   "metadata": {},
   "source": [
    "### 3. Reverse the given array in-place, means without using any extra data structure. \n",
    "### arr = [2, 4, 5, 7, 9, 12]  ; Output = [12, 9, 7, 5, 4, 2]"
   ]
  },
  {
   "cell_type": "markdown",
   "id": "ee20bfaa",
   "metadata": {},
   "source": [
    "### 4. Given an array of integers, find the maximum element in an array\n",
    "### arr = [10, 5, 20, 8, 15] ; Output = 20"
   ]
  },
  {
   "cell_type": "markdown",
   "id": "69b50fc4",
   "metadata": {},
   "source": [
    "### 5. Given a sorted array, remove the duplicate element without using any extra data structure. \n",
    "### arr = [1, 1, 2, 2, 2, 3, 3, 4, 4, 4, 5, 5]  ; Output = [1, 2, 3, 4, 5]"
   ]
  }
 ],
 "metadata": {
  "kernelspec": {
   "display_name": "Python 3 (ipykernel)",
   "language": "python",
   "name": "python3"
  },
  "language_info": {
   "codemirror_mode": {
    "name": "ipython",
    "version": 3
   },
   "file_extension": ".py",
   "mimetype": "text/x-python",
   "name": "python",
   "nbconvert_exporter": "python",
   "pygments_lexer": "ipython3",
   "version": "3.9.12"
  }
 },
 "nbformat": 4,
 "nbformat_minor": 5
}
